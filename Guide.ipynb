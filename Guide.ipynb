{
 "cells": [
  {
   "cell_type": "markdown",
   "metadata": {},
   "source": [
    "# Guide \n",
    "\n",
    "\n",
    "Notre objectif est de coder chaque partie du SIMS indépendamment l'une de l'autre. Dans cette mesure le projet est divisé en 2 parties (ou plus) indépendantes (les 2 parties du SIMS que l'on peut retrouver dans le diagramme : Bleue et Verte. Nous pourrons également faire en option le reste des parties privées de la partie rose), et les utilisateurs pourront aborder le projet dans l'ordre souhaité.\n",
    "\n",
    "On retrouvera ici la structure et les objectifs du projet [structure.ipynb](./structure.ipynb)<br><br>\n",
    "\n",
    "### Partie Verte\n",
    "On y retrouve deux fichiers, [Equations.ipynb](./SIMS/Partie%20Verte%20%28Déviation%20magnétique%29/Equations.ipynb)\n",
    " et [partie_electroaimant.py](./SIMS/Partie%20Verte%20%28Déviation%20magnétique%29/partie_electroaimant.py). Le premier nous guide à travers le raisonnement qui nous a mené jusqu'à l'équation de la trajectoire d'une particule qui traversait le champ magnétique de la partie verte du SIMS. Le deuxième fichier est celui sur lequel on retrouve tout le code nécessaire pour remplir le premier objectif. <br><br>\n",
    "\n",
    "### Partie Bleue \n",
    "On y retrouve deux dossiers, [Code](./SIMS/Partie%20Bleue%20%28accélération%29/Code) et [Equations](./SIMS/Partie%20Bleue%20%28accélération%29/Equations). Dans le dossier Equations, il y deux fichiers [Calcul angle incident.ipynb](./SIMS/Partie%20Bleue%20%28accélération%29/Equations/Calcul%20angle%20incident.ipynb) et [Calcul champ électrique.ipynb](./SIMS/Partie%20Bleue%20%28accélération%29/Equations/Calcul%20champ%20électrique.ipynb). Le premier nous guide à travers le raisonnement qui nous a mené jusqu'à l'équation nous permettant de calculer l'angle incident. Le deuxième nous guide à travers le raisonnement qui nous a mené jusqu'à l'élaboration des équations d'une particule qui traverse le champ électrique de la partie bleue accélératrice du SIMS.\n",
    "Dans le dossier code, il y a un fichier [champ_electrique.py](./SIMS/Partie%20Bleue%20%28accélération%29/Code/champ_electrique.py), dossier dans lequel on retrouve tout le code nécessaire pour remplir le deuxième objectif. <br><br>\n",
    "\n",
    "\n",
    "### Fichiers Complémentaires\n",
    "On peut aussi trouver un fichier [SIMS diagram](./SIMS%20diagram.png) qui illustre le SIMS que l'on essaye de reproduire et un fichier [structure.ipynb](./structure.ipynb) qui énonce clairement nos objectifs et décortique les étapes par lesquelles on va passer pour y parvenir.\n",
    "\n",
    "\n",
    "\n",
    "\n",
    "\n"
   ]
  },
  {
   "cell_type": "markdown",
   "metadata": {},
   "source": []
  }
 ],
 "metadata": {
  "language_info": {
   "name": "python"
  }
 },
 "nbformat": 4,
 "nbformat_minor": 2
}
